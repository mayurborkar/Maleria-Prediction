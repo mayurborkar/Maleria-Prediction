{
 "cells": [
  {
   "cell_type": "code",
   "execution_count": 1,
   "metadata": {
    "colab": {
     "base_uri": "https://localhost:8080/"
    },
    "id": "eLSO3svFNdvv",
    "outputId": "9d7d3f0f-053f-49b7-b27d-6c7a51a45a34"
   },
   "outputs": [
    {
     "name": "stdout",
     "output_type": "stream",
     "text": [
      "Mounted at /content/gdrive\n"
     ]
    }
   ],
   "source": [
    "from google.colab import drive\n",
    "drive.mount('/content/gdrive')"
   ]
  },
  {
   "cell_type": "code",
   "execution_count": 3,
   "metadata": {
    "id": "CyC5PXw9N4B_"
   },
   "outputs": [],
   "source": [
    "from tensorflow.keras.layers import Input, Lambda, Flatten, Dense, Conv2D\n",
    "from tensorflow.keras.models import Model\n",
    "from tensorflow.keras.applications.vgg19 import VGG19\n",
    "from tensorflow.keras.applications.resnet50 import preprocess_input\n",
    "from tensorflow.keras.preprocessing import image\n",
    "from tensorflow.keras.preprocessing.image import ImageDataGenerator, load_img\n",
    "from tensorflow.keras.models import Sequential\n",
    "import numpy as np\n",
    "import matplotlib.pyplot as plt\n",
    "from glob import glob"
   ]
  },
  {
   "cell_type": "code",
   "execution_count": 4,
   "metadata": {
    "id": "WSj-kXkzPfHA"
   },
   "outputs": [],
   "source": [
    "# Set Up the image size\n",
    "IMAGE_SIZE=[224,224]\n",
    "\n",
    "train_path=\"/content/gdrive/MyDrive/Colab Notebooks/Malaria Dataset/Train\"\n",
    "test_path=\"/content/gdrive/MyDrive/Colab Notebooks/Malaria Dataset/Test\""
   ]
  },
  {
   "cell_type": "code",
   "execution_count": 5,
   "metadata": {
    "colab": {
     "base_uri": "https://localhost:8080/"
    },
    "id": "ZBgt0RUhP-Dc",
    "outputId": "e2802ccd-7393-43c6-d810-6dbb2f4005aa"
   },
   "outputs": [
    {
     "name": "stdout",
     "output_type": "stream",
     "text": [
      "Downloading data from https://storage.googleapis.com/tensorflow/keras-applications/vgg19/vgg19_weights_tf_dim_ordering_tf_kernels_notop.h5\n",
      "80142336/80134624 [==============================] - 1s 0us/step\n"
     ]
    }
   ],
   "source": [
    "# Import the vgg19 library as shown below and preprocessing the front end of VGG\n",
    "\n",
    "vgg= VGG19(input_shape=IMAGE_SIZE + [3], weights='imagenet', include_top=False)"
   ]
  },
  {
   "cell_type": "code",
   "execution_count": 6,
   "metadata": {
    "id": "1HSHhdEnQZW4"
   },
   "outputs": [],
   "source": [
    "# Don't train existing layer\n",
    "for layer in vgg.layers:\n",
    "  layer.trainable=True"
   ]
  },
  {
   "cell_type": "code",
   "execution_count": 8,
   "metadata": {
    "colab": {
     "base_uri": "https://localhost:8080/"
    },
    "id": "ji6WCyUdQuDX",
    "outputId": "26d23b50-db3a-466d-b287-1fbbb6d48702"
   },
   "outputs": [
    {
     "data": {
      "text/plain": [
       "['/content/gdrive/MyDrive/Colab Notebooks/Malaria Dataset/Train/Uninfected',\n",
       " '/content/gdrive/MyDrive/Colab Notebooks/Malaria Dataset/Train/Parasite']"
      ]
     },
     "execution_count": 8,
     "metadata": {
      "tags": []
     },
     "output_type": "execute_result"
    }
   ],
   "source": [
    "# Useful For Getting the no of output\n",
    "folders=glob(\"/content/gdrive/MyDrive/Colab Notebooks/Malaria Dataset/Train/*\")\n",
    "folders"
   ]
  },
  {
   "cell_type": "code",
   "execution_count": 9,
   "metadata": {
    "id": "2znkItpVQ_6m"
   },
   "outputs": [],
   "source": [
    "# our layer\n",
    "x=Flatten()(vgg.output)"
   ]
  },
  {
   "cell_type": "code",
   "execution_count": 10,
   "metadata": {
    "id": "wlK-rYj0RfLZ"
   },
   "outputs": [],
   "source": [
    "prediction= Dense(len(folders),activation='softmax')(x)"
   ]
  },
  {
   "cell_type": "code",
   "execution_count": 11,
   "metadata": {
    "colab": {
     "base_uri": "https://localhost:8080/"
    },
    "id": "IaLD2M8cRvZ1",
    "outputId": "50a75744-ff34-4db2-dff5-d35bb8a7b3b4"
   },
   "outputs": [
    {
     "name": "stdout",
     "output_type": "stream",
     "text": [
      "Model: \"functional_1\"\n",
      "_________________________________________________________________\n",
      "Layer (type)                 Output Shape              Param #   \n",
      "=================================================================\n",
      "input_1 (InputLayer)         [(None, 224, 224, 3)]     0         \n",
      "_________________________________________________________________\n",
      "block1_conv1 (Conv2D)        (None, 224, 224, 64)      1792      \n",
      "_________________________________________________________________\n",
      "block1_conv2 (Conv2D)        (None, 224, 224, 64)      36928     \n",
      "_________________________________________________________________\n",
      "block1_pool (MaxPooling2D)   (None, 112, 112, 64)      0         \n",
      "_________________________________________________________________\n",
      "block2_conv1 (Conv2D)        (None, 112, 112, 128)     73856     \n",
      "_________________________________________________________________\n",
      "block2_conv2 (Conv2D)        (None, 112, 112, 128)     147584    \n",
      "_________________________________________________________________\n",
      "block2_pool (MaxPooling2D)   (None, 56, 56, 128)       0         \n",
      "_________________________________________________________________\n",
      "block3_conv1 (Conv2D)        (None, 56, 56, 256)       295168    \n",
      "_________________________________________________________________\n",
      "block3_conv2 (Conv2D)        (None, 56, 56, 256)       590080    \n",
      "_________________________________________________________________\n",
      "block3_conv3 (Conv2D)        (None, 56, 56, 256)       590080    \n",
      "_________________________________________________________________\n",
      "block3_conv4 (Conv2D)        (None, 56, 56, 256)       590080    \n",
      "_________________________________________________________________\n",
      "block3_pool (MaxPooling2D)   (None, 28, 28, 256)       0         \n",
      "_________________________________________________________________\n",
      "block4_conv1 (Conv2D)        (None, 28, 28, 512)       1180160   \n",
      "_________________________________________________________________\n",
      "block4_conv2 (Conv2D)        (None, 28, 28, 512)       2359808   \n",
      "_________________________________________________________________\n",
      "block4_conv3 (Conv2D)        (None, 28, 28, 512)       2359808   \n",
      "_________________________________________________________________\n",
      "block4_conv4 (Conv2D)        (None, 28, 28, 512)       2359808   \n",
      "_________________________________________________________________\n",
      "block4_pool (MaxPooling2D)   (None, 14, 14, 512)       0         \n",
      "_________________________________________________________________\n",
      "block5_conv1 (Conv2D)        (None, 14, 14, 512)       2359808   \n",
      "_________________________________________________________________\n",
      "block5_conv2 (Conv2D)        (None, 14, 14, 512)       2359808   \n",
      "_________________________________________________________________\n",
      "block5_conv3 (Conv2D)        (None, 14, 14, 512)       2359808   \n",
      "_________________________________________________________________\n",
      "block5_conv4 (Conv2D)        (None, 14, 14, 512)       2359808   \n",
      "_________________________________________________________________\n",
      "block5_pool (MaxPooling2D)   (None, 7, 7, 512)         0         \n",
      "_________________________________________________________________\n",
      "flatten (Flatten)            (None, 25088)             0         \n",
      "_________________________________________________________________\n",
      "dense (Dense)                (None, 2)                 50178     \n",
      "=================================================================\n",
      "Total params: 20,074,562\n",
      "Trainable params: 20,074,562\n",
      "Non-trainable params: 0\n",
      "_________________________________________________________________\n"
     ]
    }
   ],
   "source": [
    "# Creating the model\n",
    "model = Model(inputs=vgg.input, outputs=prediction)\n",
    "model.summary()"
   ]
  },
  {
   "cell_type": "code",
   "execution_count": 12,
   "metadata": {
    "id": "j9GANwZBSM9q"
   },
   "outputs": [],
   "source": [
    "from tensorflow.keras.layers import MaxPooling2D"
   ]
  },
  {
   "cell_type": "code",
   "execution_count": 13,
   "metadata": {
    "colab": {
     "base_uri": "https://localhost:8080/"
    },
    "id": "5sA58N3rS99Z",
    "outputId": "68813221-272a-44ac-fe29-d58c8e13bdda"
   },
   "outputs": [
    {
     "name": "stdout",
     "output_type": "stream",
     "text": [
      "Model: \"sequential\"\n",
      "_________________________________________________________________\n",
      "Layer (type)                 Output Shape              Param #   \n",
      "=================================================================\n",
      "conv2d (Conv2D)              (None, 224, 224, 16)      208       \n",
      "_________________________________________________________________\n",
      "max_pooling2d (MaxPooling2D) (None, 112, 112, 16)      0         \n",
      "_________________________________________________________________\n",
      "conv2d_1 (Conv2D)            (None, 112, 112, 32)      2080      \n",
      "_________________________________________________________________\n",
      "max_pooling2d_1 (MaxPooling2 (None, 56, 56, 32)        0         \n",
      "_________________________________________________________________\n",
      "conv2d_2 (Conv2D)            (None, 56, 56, 64)        8256      \n",
      "_________________________________________________________________\n",
      "max_pooling2d_2 (MaxPooling2 (None, 28, 28, 64)        0         \n",
      "_________________________________________________________________\n",
      "flatten_1 (Flatten)          (None, 50176)             0         \n",
      "_________________________________________________________________\n",
      "dense_1 (Dense)              (None, 500)               25088500  \n",
      "_________________________________________________________________\n",
      "dense_2 (Dense)              (None, 2)                 1002      \n",
      "=================================================================\n",
      "Total params: 25,100,046\n",
      "Trainable params: 25,100,046\n",
      "Non-trainable params: 0\n",
      "_________________________________________________________________\n"
     ]
    }
   ],
   "source": [
    "# Create Your own model\n",
    "model=Sequential()\n",
    "\n",
    "model.add(Conv2D(filters=16, kernel_size=2, padding='same', activation='relu', input_shape=(224,224,3)))\n",
    "model.add(MaxPooling2D(pool_size=2))\n",
    "\n",
    "model.add(Conv2D(filters=32, kernel_size=2, padding='same',activation='relu'))\n",
    "model.add(MaxPooling2D(pool_size=2))\n",
    "\n",
    "model.add(Conv2D(filters=64, kernel_size=2, padding='same', activation='relu'))\n",
    "model.add(MaxPooling2D(pool_size=2))\n",
    "\n",
    "model.add(Flatten())\n",
    "\n",
    "model.add(Dense(500, activation='relu'))\n",
    "model.add(Dense(2, activation='softmax'))\n",
    "\n",
    "model.summary()"
   ]
  },
  {
   "cell_type": "code",
   "execution_count": 14,
   "metadata": {
    "id": "ut__hRYKVTYC"
   },
   "outputs": [],
   "source": [
    "# tell the model what loss and optimizer used\n",
    "model.compile(loss='categorical_crossentropy', optimizer='adam', metrics=['accuracy'])"
   ]
  },
  {
   "cell_type": "code",
   "execution_count": 15,
   "metadata": {
    "id": "A9xz1AZoV8uR"
   },
   "outputs": [],
   "source": [
    "# Use image datagenerator to import the image from dataset\n",
    "train_datagen = ImageDataGenerator (rescale=1./255,\n",
    "                                    shear_range=0.2,\n",
    "                                    zoom_range=0.2,\n",
    "                                    horizontal_flip=True)\n",
    "\n",
    "test_datagen = ImageDataGenerator (rescale=1./255)"
   ]
  },
  {
   "cell_type": "code",
   "execution_count": 16,
   "metadata": {
    "colab": {
     "base_uri": "https://localhost:8080/"
    },
    "id": "0HrllieAW6BD",
    "outputId": "097638b7-f1b5-4272-d607-03326903f902"
   },
   "outputs": [
    {
     "name": "stdout",
     "output_type": "stream",
     "text": [
      "Found 419 images belonging to 2 classes.\n"
     ]
    }
   ],
   "source": [
    "training_set = train_datagen.flow_from_directory('/content/gdrive/MyDrive/Colab Notebooks/Malaria Dataset/Train',\n",
    "                                                 target_size=(224,224),\n",
    "                                                 batch_size=32,\n",
    "                                                 class_mode='categorical')"
   ]
  },
  {
   "cell_type": "code",
   "execution_count": 17,
   "metadata": {
    "colab": {
     "base_uri": "https://localhost:8080/"
    },
    "id": "OPNHksMpXl8-",
    "outputId": "8e4858db-3796-4413-c608-6667f2c9b49e"
   },
   "outputs": [
    {
     "name": "stdout",
     "output_type": "stream",
     "text": [
      "Found 134 images belonging to 2 classes.\n"
     ]
    }
   ],
   "source": [
    "testing_set =test_datagen.flow_from_directory('/content/gdrive/MyDrive/Colab Notebooks/Malaria Dataset/Test',\n",
    "                                              target_size=(224,224),\n",
    "                                              batch_size=32,\n",
    "                                              class_mode='categorical')"
   ]
  },
  {
   "cell_type": "code",
   "execution_count": 18,
   "metadata": {
    "colab": {
     "base_uri": "https://localhost:8080/"
    },
    "id": "PJbbmBNCX6K2",
    "outputId": "104d41cf-8b1b-48a5-d8bf-b5751bb2f390"
   },
   "outputs": [
    {
     "name": "stdout",
     "output_type": "stream",
     "text": [
      "WARNING:tensorflow:From <ipython-input-18-e388dbe26a31>:2: Model.fit_generator (from tensorflow.python.keras.engine.training) is deprecated and will be removed in a future version.\n",
      "Instructions for updating:\n",
      "Please use Model.fit, which supports generators.\n",
      "Epoch 1/50\n",
      "14/14 [==============================] - 126s 9s/step - loss: 1.4937 - accuracy: 0.5346 - val_loss: 0.6601 - val_accuracy: 0.6493\n",
      "Epoch 2/50\n",
      "14/14 [==============================] - 5s 334ms/step - loss: 0.6924 - accuracy: 0.5251 - val_loss: 0.6788 - val_accuracy: 0.6194\n",
      "Epoch 3/50\n",
      "14/14 [==============================] - 5s 337ms/step - loss: 0.6722 - accuracy: 0.5489 - val_loss: 0.6673 - val_accuracy: 0.6642\n",
      "Epoch 4/50\n",
      "14/14 [==============================] - 5s 337ms/step - loss: 0.6140 - accuracy: 0.6969 - val_loss: 0.7229 - val_accuracy: 0.4776\n",
      "Epoch 5/50\n",
      "14/14 [==============================] - 5s 333ms/step - loss: 0.5299 - accuracy: 0.7088 - val_loss: 0.7904 - val_accuracy: 0.4478\n",
      "Epoch 6/50\n",
      "14/14 [==============================] - 5s 332ms/step - loss: 0.6522 - accuracy: 0.6539 - val_loss: 0.9956 - val_accuracy: 0.3806\n",
      "Epoch 7/50\n",
      "14/14 [==============================] - 5s 335ms/step - loss: 0.5251 - accuracy: 0.7566 - val_loss: 0.7766 - val_accuracy: 0.4254\n",
      "Epoch 8/50\n",
      "14/14 [==============================] - 5s 332ms/step - loss: 0.4654 - accuracy: 0.7804 - val_loss: 0.9009 - val_accuracy: 0.4851\n",
      "Epoch 9/50\n",
      "14/14 [==============================] - 5s 334ms/step - loss: 0.3749 - accuracy: 0.8162 - val_loss: 0.8206 - val_accuracy: 0.5149\n",
      "Epoch 10/50\n",
      "14/14 [==============================] - 5s 332ms/step - loss: 0.3520 - accuracy: 0.8496 - val_loss: 0.8357 - val_accuracy: 0.5896\n",
      "Epoch 11/50\n",
      "14/14 [==============================] - 5s 336ms/step - loss: 0.3230 - accuracy: 0.8663 - val_loss: 0.5977 - val_accuracy: 0.6567\n",
      "Epoch 12/50\n",
      "14/14 [==============================] - 5s 333ms/step - loss: 0.3408 - accuracy: 0.8520 - val_loss: 0.6880 - val_accuracy: 0.6194\n",
      "Epoch 13/50\n",
      "14/14 [==============================] - 5s 334ms/step - loss: 0.2745 - accuracy: 0.8950 - val_loss: 0.6531 - val_accuracy: 0.6119\n",
      "Epoch 14/50\n",
      "14/14 [==============================] - 5s 331ms/step - loss: 0.2589 - accuracy: 0.8902 - val_loss: 0.7191 - val_accuracy: 0.6343\n",
      "Epoch 15/50\n",
      "14/14 [==============================] - 5s 336ms/step - loss: 0.2074 - accuracy: 0.9165 - val_loss: 0.5346 - val_accuracy: 0.7388\n",
      "Epoch 16/50\n",
      "14/14 [==============================] - 5s 340ms/step - loss: 0.2019 - accuracy: 0.9332 - val_loss: 0.3736 - val_accuracy: 0.8358\n",
      "Epoch 17/50\n",
      "14/14 [==============================] - 5s 349ms/step - loss: 0.1586 - accuracy: 0.9451 - val_loss: 0.3434 - val_accuracy: 0.8433\n",
      "Epoch 18/50\n",
      "14/14 [==============================] - 5s 352ms/step - loss: 0.1684 - accuracy: 0.9427 - val_loss: 0.7241 - val_accuracy: 0.6567\n",
      "Epoch 19/50\n",
      "14/14 [==============================] - 5s 340ms/step - loss: 0.1487 - accuracy: 0.9547 - val_loss: 0.3387 - val_accuracy: 0.8582\n",
      "Epoch 20/50\n",
      "14/14 [==============================] - 5s 332ms/step - loss: 0.1413 - accuracy: 0.9547 - val_loss: 0.4270 - val_accuracy: 0.7985\n",
      "Epoch 21/50\n",
      "14/14 [==============================] - 5s 333ms/step - loss: 0.1587 - accuracy: 0.9451 - val_loss: 0.3733 - val_accuracy: 0.8284\n",
      "Epoch 22/50\n",
      "14/14 [==============================] - 5s 331ms/step - loss: 0.1363 - accuracy: 0.9594 - val_loss: 0.3586 - val_accuracy: 0.8358\n",
      "Epoch 23/50\n",
      "14/14 [==============================] - 5s 335ms/step - loss: 0.1045 - accuracy: 0.9642 - val_loss: 0.4411 - val_accuracy: 0.8284\n",
      "Epoch 24/50\n",
      "14/14 [==============================] - 5s 333ms/step - loss: 0.1031 - accuracy: 0.9737 - val_loss: 0.2195 - val_accuracy: 0.9179\n",
      "Epoch 25/50\n",
      "14/14 [==============================] - 5s 331ms/step - loss: 0.0796 - accuracy: 0.9785 - val_loss: 0.3739 - val_accuracy: 0.8582\n",
      "Epoch 26/50\n",
      "14/14 [==============================] - 5s 334ms/step - loss: 0.0779 - accuracy: 0.9737 - val_loss: 0.5253 - val_accuracy: 0.7910\n",
      "Epoch 27/50\n",
      "14/14 [==============================] - 5s 333ms/step - loss: 0.1205 - accuracy: 0.9403 - val_loss: 0.3559 - val_accuracy: 0.8433\n",
      "Epoch 28/50\n",
      "14/14 [==============================] - 5s 334ms/step - loss: 0.0994 - accuracy: 0.9690 - val_loss: 0.3123 - val_accuracy: 0.8582\n",
      "Epoch 29/50\n",
      "14/14 [==============================] - 5s 332ms/step - loss: 0.0831 - accuracy: 0.9714 - val_loss: 0.3096 - val_accuracy: 0.8881\n",
      "Epoch 30/50\n",
      "14/14 [==============================] - 5s 334ms/step - loss: 0.1128 - accuracy: 0.9714 - val_loss: 0.3448 - val_accuracy: 0.8507\n",
      "Epoch 31/50\n",
      "14/14 [==============================] - 5s 334ms/step - loss: 0.1037 - accuracy: 0.9690 - val_loss: 0.3585 - val_accuracy: 0.8582\n",
      "Epoch 32/50\n",
      "14/14 [==============================] - 5s 335ms/step - loss: 0.1178 - accuracy: 0.9666 - val_loss: 0.3797 - val_accuracy: 0.8358\n",
      "Epoch 33/50\n",
      "14/14 [==============================] - 5s 340ms/step - loss: 0.0787 - accuracy: 0.9714 - val_loss: 0.6008 - val_accuracy: 0.8433\n",
      "Epoch 34/50\n",
      "14/14 [==============================] - 5s 333ms/step - loss: 0.0510 - accuracy: 0.9833 - val_loss: 0.1683 - val_accuracy: 0.9478\n",
      "Epoch 35/50\n",
      "14/14 [==============================] - 5s 338ms/step - loss: 0.0450 - accuracy: 0.9881 - val_loss: 0.2223 - val_accuracy: 0.9030\n",
      "Epoch 36/50\n",
      "14/14 [==============================] - 5s 333ms/step - loss: 0.0439 - accuracy: 0.9833 - val_loss: 0.3370 - val_accuracy: 0.8731\n",
      "Epoch 37/50\n",
      "14/14 [==============================] - 5s 332ms/step - loss: 0.0433 - accuracy: 0.9905 - val_loss: 0.2155 - val_accuracy: 0.9030\n",
      "Epoch 38/50\n",
      "14/14 [==============================] - 5s 333ms/step - loss: 0.0524 - accuracy: 0.9785 - val_loss: 0.1423 - val_accuracy: 0.9627\n",
      "Epoch 39/50\n",
      "14/14 [==============================] - 5s 334ms/step - loss: 0.0589 - accuracy: 0.9881 - val_loss: 0.2438 - val_accuracy: 0.8955\n",
      "Epoch 40/50\n",
      "14/14 [==============================] - 5s 332ms/step - loss: 0.1489 - accuracy: 0.9714 - val_loss: 0.1679 - val_accuracy: 0.9328\n",
      "Epoch 41/50\n",
      "14/14 [==============================] - 5s 330ms/step - loss: 0.0626 - accuracy: 0.9857 - val_loss: 0.3218 - val_accuracy: 0.8806\n",
      "Epoch 42/50\n",
      "14/14 [==============================] - 5s 335ms/step - loss: 0.0933 - accuracy: 0.9714 - val_loss: 0.4154 - val_accuracy: 0.7836\n",
      "Epoch 43/50\n",
      "14/14 [==============================] - 5s 330ms/step - loss: 0.5096 - accuracy: 0.7757 - val_loss: 0.5570 - val_accuracy: 0.7090\n",
      "Epoch 44/50\n",
      "14/14 [==============================] - 5s 334ms/step - loss: 0.4146 - accuracy: 0.8019 - val_loss: 0.5252 - val_accuracy: 0.6940\n",
      "Epoch 45/50\n",
      "14/14 [==============================] - 5s 332ms/step - loss: 0.2978 - accuracy: 0.8807 - val_loss: 1.2199 - val_accuracy: 0.5299\n",
      "Epoch 46/50\n",
      "14/14 [==============================] - 5s 333ms/step - loss: 0.2801 - accuracy: 0.8902 - val_loss: 0.6289 - val_accuracy: 0.6716\n",
      "Epoch 47/50\n",
      "14/14 [==============================] - 5s 332ms/step - loss: 0.1965 - accuracy: 0.9260 - val_loss: 0.4326 - val_accuracy: 0.7537\n",
      "Epoch 48/50\n",
      "14/14 [==============================] - 5s 338ms/step - loss: 0.1787 - accuracy: 0.9212 - val_loss: 0.4130 - val_accuracy: 0.7836\n",
      "Epoch 49/50\n",
      "14/14 [==============================] - 5s 337ms/step - loss: 0.1364 - accuracy: 0.9475 - val_loss: 0.6045 - val_accuracy: 0.7761\n",
      "Epoch 50/50\n",
      "14/14 [==============================] - 5s 334ms/step - loss: 0.1720 - accuracy: 0.9332 - val_loss: 0.3725 - val_accuracy: 0.8507\n"
     ]
    }
   ],
   "source": [
    "# Fit the model and run\n",
    "r=model.fit_generator(training_set, validation_data=testing_set, validation_steps=len(testing_set), steps_per_epoch=len(training_set), epochs=50)"
   ]
  },
  {
   "cell_type": "code",
   "execution_count": 19,
   "metadata": {
    "colab": {
     "base_uri": "https://localhost:8080/",
     "height": 530
    },
    "id": "_jjMtnjqYsEt",
    "outputId": "d8255c48-6c8c-43a2-def6-29b3683225d5"
   },
   "outputs": [
    {
     "data": {
      "image/png": "[encoded data removed]",
      "text/plain": [
       "<Figure size 432x288 with 1 Axes>"
      ]
     },
     "metadata": {
      "needs_background": "light",
      "tags": []
     },
     "output_type": "display_data"
    },
    {
     "data": {
      "image/png": "[encoded data removed]",
      "text/plain": [
       "<Figure size 432x288 with 1 Axes>"
      ]
     },
     "metadata": {
      "needs_background": "light",
      "tags": []
     },
     "output_type": "display_data"
    },
    {
     "data": {
      "text/plain": [
       "<Figure size 432x288 with 0 Axes>"
      ]
     },
     "metadata": {
      "tags": []
     },
     "output_type": "display_data"
    }
   ],
   "source": [
    "# plot the loss\n",
    "plt.plot(r.history['loss'], label='train loss')\n",
    "plt.plot(r.history['val_loss'], label='val loss')\n",
    "plt.legend()\n",
    "plt.show()\n",
    "plt.savefig('/content/gdrive/MyDrive/Colab Notebooks/Malaria Prediction/LossVal_loss')\n",
    "\n",
    "# plot the accuracy\n",
    "plt.plot(r.history['accuracy'], label='train acc')\n",
    "plt.plot(r.history['val_accuracy'], label='val acc')\n",
    "plt.legend()\n",
    "plt.show()\n",
    "plt.savefig('/content/gdrive/MyDrive/Colab Notebooks/Malaria Prediction/AccVal_acc')"
   ]
  },
  {
   "cell_type": "code",
   "execution_count": 20,
   "metadata": {
    "id": "hdJujXtzeC8N"
   },
   "outputs": [],
   "source": [
    "# Save the model\n",
    "from tensorflow.keras.models import load_model\n",
    "model.save('/content/gdrive/MyDrive/Colab Notebooks/Malaria Prediction/model_vgg19.h5')"
   ]
  },
  {
   "cell_type": "code",
   "execution_count": 21,
   "metadata": {
    "colab": {
     "base_uri": "https://localhost:8080/"
    },
    "id": "OLp0yUsJehVP",
    "outputId": "fc8ee73e-d1a2-4567-cb56-07e3b1027597"
   },
   "outputs": [
    {
     "data": {
      "text/plain": [
       "array([[2.43682101e-01, 7.56317914e-01],\n",
       "       [1.86238810e-01, 8.13761234e-01],\n",
       "       [9.96745467e-01, 3.25452629e-03],\n",
       "       [9.97385085e-01, 2.61487882e-03],\n",
       "       [9.53097999e-01, 4.69020270e-02],\n",
       "       [9.99997377e-01, 2.66251163e-06],\n",
       "       [8.96755904e-02, 9.10324454e-01],\n",
       "       [3.22863787e-01, 6.77136242e-01],\n",
       "       [1.28779873e-01, 8.71220112e-01],\n",
       "       [1.00000000e+00, 1.24080328e-08],\n",
       "       [2.06658598e-02, 9.79334116e-01],\n",
       "       [2.96445191e-02, 9.70355511e-01],\n",
       "       [3.85944583e-02, 9.61405575e-01],\n",
       "       [9.99951363e-01, 4.86496829e-05],\n",
       "       [4.16873097e-02, 9.58312631e-01],\n",
       "       [9.97955322e-01, 2.04461045e-03],\n",
       "       [2.73260530e-02, 9.72674012e-01],\n",
       "       [9.99999642e-01, 3.68566816e-07],\n",
       "       [6.36799216e-01, 3.63200754e-01],\n",
       "       [2.24711020e-02, 9.77528930e-01],\n",
       "       [9.99911785e-01, 8.82590684e-05],\n",
       "       [9.99999762e-01, 2.78911784e-07],\n",
       "       [9.99958515e-01, 4.14385613e-05],\n",
       "       [9.99975801e-01, 2.41969428e-05],\n",
       "       [7.06652105e-01, 2.93347836e-01],\n",
       "       [5.62609211e-02, 9.43739116e-01],\n",
       "       [9.99397516e-01, 6.02506858e-04],\n",
       "       [9.98923957e-01, 1.07599469e-03],\n",
       "       [1.00000000e+00, 1.78999898e-10],\n",
       "       [6.17478928e-03, 9.93825197e-01],\n",
       "       [9.99848962e-01, 1.51012122e-04],\n",
       "       [9.80923772e-01, 1.90761853e-02],\n",
       "       [9.86197770e-01, 1.38022620e-02],\n",
       "       [9.98171926e-01, 1.82806561e-03],\n",
       "       [7.30492026e-02, 9.26950812e-01],\n",
       "       [9.84825075e-01, 1.51749616e-02],\n",
       "       [9.89429891e-01, 1.05701648e-02],\n",
       "       [1.14919944e-02, 9.88507926e-01],\n",
       "       [1.85522065e-02, 9.81447816e-01],\n",
       "       [1.31092612e-02, 9.86890733e-01],\n",
       "       [1.44953746e-02, 9.85504568e-01],\n",
       "       [1.00000000e+00, 1.81485937e-08],\n",
       "       [9.99137759e-01, 8.62158195e-04],\n",
       "       [2.93041319e-02, 9.70695853e-01],\n",
       "       [1.00000000e+00, 5.61784014e-17],\n",
       "       [3.72790098e-02, 9.62721050e-01],\n",
       "       [1.38367936e-01, 8.61631989e-01],\n",
       "       [9.51526463e-01, 4.84735295e-02],\n",
       "       [1.00000000e+00, 2.22020693e-10],\n",
       "       [9.99998569e-01, 1.45312538e-06],\n",
       "       [2.45305710e-02, 9.75469470e-01],\n",
       "       [3.70307751e-02, 9.62969244e-01],\n",
       "       [9.99905109e-01, 9.49387104e-05],\n",
       "       [1.00000000e+00, 2.69300475e-08],\n",
       "       [9.99481618e-01, 5.18394401e-04],\n",
       "       [9.96101856e-01, 3.89815029e-03],\n",
       "       [9.99856710e-01, 1.43270663e-04],\n",
       "       [3.28749456e-02, 9.67125058e-01],\n",
       "       [7.67007172e-02, 9.23299313e-01],\n",
       "       [9.99994159e-01, 5.85072758e-06],\n",
       "       [3.64372551e-01, 6.35627449e-01],\n",
       "       [9.99999166e-01, 8.02401416e-07],\n",
       "       [1.06691830e-02, 9.89330769e-01],\n",
       "       [1.00000000e+00, 1.20381538e-10],\n",
       "       [1.51286781e-01, 8.48713160e-01],\n",
       "       [1.30656622e-02, 9.86934304e-01],\n",
       "       [2.38742325e-02, 9.76125777e-01],\n",
       "       [4.80298977e-03, 9.95196998e-01],\n",
       "       [1.05442284e-02, 9.89455760e-01],\n",
       "       [8.35517168e-01, 1.64482847e-01],\n",
       "       [9.95083332e-01, 4.91674989e-03],\n",
       "       [9.90433335e-01, 9.56662931e-03],\n",
       "       [1.00000000e+00, 1.71512027e-09],\n",
       "       [9.99574363e-01, 4.25643288e-04],\n",
       "       [8.31109192e-03, 9.91688907e-01],\n",
       "       [1.89983577e-01, 8.10016453e-01],\n",
       "       [9.95569289e-01, 4.43070568e-03],\n",
       "       [9.99707401e-01, 2.92607758e-04],\n",
       "       [1.00000000e+00, 2.05033168e-09],\n",
       "       [9.97296751e-01, 2.70325667e-03],\n",
       "       [2.36303434e-02, 9.76369679e-01],\n",
       "       [8.13546240e-01, 1.86453715e-01],\n",
       "       [9.99982834e-01, 1.71850661e-05],\n",
       "       [1.46338651e-02, 9.85366106e-01],\n",
       "       [1.19358540e-01, 8.80641401e-01],\n",
       "       [1.00000000e+00, 1.30136311e-08],\n",
       "       [8.80135316e-03, 9.91198599e-01],\n",
       "       [1.00034304e-01, 8.99965703e-01],\n",
       "       [2.66582076e-03, 9.97334242e-01],\n",
       "       [9.86784995e-01, 1.32150101e-02],\n",
       "       [9.71410751e-01, 2.85892487e-02],\n",
       "       [9.96582925e-01, 3.41707421e-03],\n",
       "       [8.15856278e-01, 1.84143752e-01],\n",
       "       [9.99999642e-01, 3.43187111e-07],\n",
       "       [9.99999046e-01, 1.00132820e-06],\n",
       "       [8.40618193e-01, 1.59381852e-01],\n",
       "       [1.56972837e-02, 9.84302759e-01],\n",
       "       [9.99999404e-01, 5.72915951e-07],\n",
       "       [1.00000000e+00, 1.77218986e-15],\n",
       "       [6.61460832e-02, 9.33853924e-01],\n",
       "       [7.07290530e-01, 2.92709440e-01],\n",
       "       [9.99854565e-01, 1.45433980e-04],\n",
       "       [9.64455605e-01, 3.55444551e-02],\n",
       "       [9.99998808e-01, 1.20904099e-06],\n",
       "       [1.21072710e-01, 8.78927290e-01],\n",
       "       [9.99550164e-01, 4.49800078e-04],\n",
       "       [9.68800485e-03, 9.90311980e-01],\n",
       "       [2.27876212e-02, 9.77212369e-01],\n",
       "       [1.35587184e-02, 9.86441314e-01],\n",
       "       [3.22058126e-02, 9.67794240e-01],\n",
       "       [3.51640023e-02, 9.64835942e-01],\n",
       "       [1.15783267e-01, 8.84216666e-01],\n",
       "       [1.33244097e-01, 8.66755843e-01],\n",
       "       [5.07605821e-02, 9.49239373e-01],\n",
       "       [9.98915672e-01, 1.08435133e-03],\n",
       "       [1.07874768e-02, 9.89212513e-01],\n",
       "       [3.52100246e-02, 9.64790046e-01],\n",
       "       [9.98223245e-01, 1.77675346e-03],\n",
       "       [9.97522652e-01, 2.47735321e-03],\n",
       "       [1.00000000e+00, 2.15957607e-09],\n",
       "       [1.71305630e-02, 9.82869446e-01],\n",
       "       [9.99934316e-01, 6.56924603e-05],\n",
       "       [4.98988517e-02, 9.50101137e-01],\n",
       "       [7.71609917e-02, 9.22838986e-01],\n",
       "       [5.94479628e-02, 9.40552056e-01],\n",
       "       [1.34548217e-01, 8.65451813e-01],\n",
       "       [9.99999166e-01, 8.45009424e-07],\n",
       "       [2.06440520e-02, 9.79355991e-01],\n",
       "       [9.99944687e-01, 5.53342616e-05],\n",
       "       [9.31648314e-02, 9.06835198e-01],\n",
       "       [9.99999523e-01, 4.78891081e-07],\n",
       "       [4.72841859e-02, 9.52715755e-01],\n",
       "       [3.48612741e-02, 9.65138674e-01],\n",
       "       [1.95917524e-02, 9.80408192e-01]], dtype=float32)"
      ]
     },
     "execution_count": 21,
     "metadata": {
      "tags": []
     },
     "output_type": "execute_result"
    }
   ],
   "source": [
    "prediction=model.predict(testing_set)\n",
    "prediction"
   ]
  },
  {
   "cell_type": "code",
   "execution_count": 22,
   "metadata": {
    "colab": {
     "base_uri": "https://localhost:8080/"
    },
    "id": "iRSRrTm_ewuW",
    "outputId": "a2417095-32cb-4674-ba50-ad42ccdb11f6"
   },
   "outputs": [
    {
     "data": {
      "text/plain": [
       "array([1, 1, 0, 0, 0, 0, 1, 1, 1, 0, 1, 1, 1, 0, 1, 0, 1, 0, 0, 1, 0, 0,\n",
       "       0, 0, 0, 1, 0, 0, 0, 1, 0, 0, 0, 0, 1, 0, 0, 1, 1, 1, 1, 0, 0, 1,\n",
       "       0, 1, 1, 0, 0, 0, 1, 1, 0, 0, 0, 0, 0, 1, 1, 0, 1, 0, 1, 0, 1, 1,\n",
       "       1, 1, 1, 0, 0, 0, 0, 0, 1, 1, 0, 0, 0, 0, 1, 0, 0, 1, 1, 0, 1, 1,\n",
       "       1, 0, 0, 0, 0, 0, 0, 0, 1, 0, 0, 1, 0, 0, 0, 0, 1, 0, 1, 1, 1, 1,\n",
       "       1, 1, 1, 1, 0, 1, 1, 0, 0, 0, 1, 0, 1, 1, 1, 1, 0, 1, 0, 1, 0, 1,\n",
       "       1, 1])"
      ]
     },
     "execution_count": 22,
     "metadata": {
      "tags": []
     },
     "output_type": "execute_result"
    }
   ],
   "source": [
    "predictions=np.argmax(prediction,axis=1)\n",
    "predictions"
   ]
  },
  {
   "cell_type": "code",
   "execution_count": 23,
   "metadata": {
    "id": "xIfa3a3NfCl8"
   },
   "outputs": [],
   "source": [
    "# Now load the model\n",
    "from tensorflow.keras.models import load_model\n",
    "from tensorflow.keras.preprocessing import image\n",
    "model = load_model('/content/gdrive/MyDrive/Colab Notebooks/Malaria Prediction/model_vgg19.h5')"
   ]
  },
  {
   "cell_type": "code",
   "execution_count": 24,
   "metadata": {
    "id": "hcl4t_QHfixd"
   },
   "outputs": [],
   "source": [
    "img = image.load_img('/content/gdrive/MyDrive/Colab Notebooks/Malaria Dataset/Test/Parasite/C39P4thinF_original_IMG_20150622_105554_cell_12.png',\n",
    "                     target_size=(224,224))"
   ]
  },
  {
   "cell_type": "code",
   "execution_count": 25,
   "metadata": {
    "colab": {
     "base_uri": "https://localhost:8080/"
    },
    "id": "2WVnIKCOgGuY",
    "outputId": "9e43afc4-a113-4846-e30a-0a6b0f6e378c"
   },
   "outputs": [
    {
     "data": {
      "text/plain": [
       "array([[[0., 0., 0.],\n",
       "        [0., 0., 0.],\n",
       "        [0., 0., 0.],\n",
       "        ...,\n",
       "        [0., 0., 0.],\n",
       "        [0., 0., 0.],\n",
       "        [0., 0., 0.]],\n",
       "\n",
       "       [[0., 0., 0.],\n",
       "        [0., 0., 0.],\n",
       "        [0., 0., 0.],\n",
       "        ...,\n",
       "        [0., 0., 0.],\n",
       "        [0., 0., 0.],\n",
       "        [0., 0., 0.]],\n",
       "\n",
       "       [[0., 0., 0.],\n",
       "        [0., 0., 0.],\n",
       "        [0., 0., 0.],\n",
       "        ...,\n",
       "        [0., 0., 0.],\n",
       "        [0., 0., 0.],\n",
       "        [0., 0., 0.]],\n",
       "\n",
       "       ...,\n",
       "\n",
       "       [[0., 0., 0.],\n",
       "        [0., 0., 0.],\n",
       "        [0., 0., 0.],\n",
       "        ...,\n",
       "        [0., 0., 0.],\n",
       "        [0., 0., 0.],\n",
       "        [0., 0., 0.]],\n",
       "\n",
       "       [[0., 0., 0.],\n",
       "        [0., 0., 0.],\n",
       "        [0., 0., 0.],\n",
       "        ...,\n",
       "        [0., 0., 0.],\n",
       "        [0., 0., 0.],\n",
       "        [0., 0., 0.]],\n",
       "\n",
       "       [[0., 0., 0.],\n",
       "        [0., 0., 0.],\n",
       "        [0., 0., 0.],\n",
       "        ...,\n",
       "        [0., 0., 0.],\n",
       "        [0., 0., 0.],\n",
       "        [0., 0., 0.]]], dtype=float32)"
      ]
     },
     "execution_count": 25,
     "metadata": {
      "tags": []
     },
     "output_type": "execute_result"
    }
   ],
   "source": [
    "x=image.img_to_array(img)\n",
    "x"
   ]
  },
  {
   "cell_type": "code",
   "execution_count": 26,
   "metadata": {
    "colab": {
     "base_uri": "https://localhost:8080/"
    },
    "id": "YWO5KJNmgREC",
    "outputId": "0e716e3b-48ab-498b-90d3-b28dbd96121c"
   },
   "outputs": [
    {
     "data": {
      "text/plain": [
       "(224, 224, 3)"
      ]
     },
     "execution_count": 26,
     "metadata": {
      "tags": []
     },
     "output_type": "execute_result"
    }
   ],
   "source": [
    "x.shape"
   ]
  },
  {
   "cell_type": "code",
   "execution_count": 27,
   "metadata": {
    "id": "dbNBfYk4gVms"
   },
   "outputs": [],
   "source": [
    "x=x/255"
   ]
  },
  {
   "cell_type": "code",
   "execution_count": 28,
   "metadata": {
    "colab": {
     "base_uri": "https://localhost:8080/"
    },
    "id": "H9uATu57glWJ",
    "outputId": "9812db9d-a4d7-429e-ed9d-c7e403eeec69"
   },
   "outputs": [
    {
     "data": {
      "text/plain": [
       "(1, 224, 224, 3)"
      ]
     },
     "execution_count": 28,
     "metadata": {
      "tags": []
     },
     "output_type": "execute_result"
    }
   ],
   "source": [
    "x=np.expand_dims(x,axis=0)\n",
    "img_data=preprocess_input(x)\n",
    "img_data.shape"
   ]
  },
  {
   "cell_type": "code",
   "execution_count": 29,
   "metadata": {
    "colab": {
     "base_uri": "https://localhost:8080/"
    },
    "id": "Pyn1SVA4g1ip",
    "outputId": "416f9880-7d2c-4029-df54-c400d7eed37f"
   },
   "outputs": [
    {
     "data": {
      "text/plain": [
       "array([[1., 0.]], dtype=float32)"
      ]
     },
     "execution_count": 29,
     "metadata": {
      "tags": []
     },
     "output_type": "execute_result"
    }
   ],
   "source": [
    "model.predict(img_data)"
   ]
  },
  {
   "cell_type": "code",
   "execution_count": 30,
   "metadata": {
    "id": "Sjm-ii0Zg9gp"
   },
   "outputs": [],
   "source": [
    "a=np.argmax(model.predict(img_data),axis=1)"
   ]
  },
  {
   "cell_type": "code",
   "execution_count": 31,
   "metadata": {
    "colab": {
     "base_uri": "https://localhost:8080/"
    },
    "id": "X6y73gyGhKb3",
    "outputId": "76f1c378-d39e-44e7-c2f5-accaadc0abe4"
   },
   "outputs": [
    {
     "name": "stdout",
     "output_type": "stream",
     "text": [
      "Infected\n"
     ]
    }
   ],
   "source": [
    "if a==1:\n",
    "  print('Uninfected')\n",
    "else:\n",
    "  print('Infected')"
   ]
  },
  {
   "cell_type": "code",
   "execution_count": null,
   "metadata": {
    "id": "CuTFDJv3hWa9"
   },
   "outputs": [],
   "source": []
  }
 ],
 "metadata": {
  "accelerator": "GPU",
  "colab": {
   "collapsed_sections": [],
   "name": "Malaria Prediction Using VGG19.ipynb",
   "provenance": []
  },
  "kernelspec": {
   "display_name": "Python 3",
   "language": "python",
   "name": "python3"
  },
  "language_info": {
   "codemirror_mode": {
    "name": "ipython",
    "version": 3
   },
   "file_extension": ".py",
   "mimetype": "text/x-python",
   "name": "python",
   "nbconvert_exporter": "python",
   "pygments_lexer": "ipython3",
   "version": "3.8.5"
  }
 },
 "nbformat": 4,
 "nbformat_minor": 1
}
